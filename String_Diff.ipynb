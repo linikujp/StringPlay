{
 "cells": [
  {
   "cell_type": "code",
   "execution_count": 1,
   "id": "0e5d53bb",
   "metadata": {},
   "outputs": [
    {
     "name": "stdout",
     "output_type": "stream",
     "text": [
      "Differences:\n",
      "- leukoenceph,\n",
      "?            -\n",
      "\n",
      "+ leukoenceph\n",
      "- fidduses,\n",
      "?         -\n",
      "\n",
      "+ fidduses\n",
      "  with\n",
      "  sepro\n",
      "- 1\n"
     ]
    }
   ],
   "source": [
    "import difflib\n",
    "\n",
    "strA = \"leukoenceph, fidduses, with sepro 1\"\n",
    "strB = \"leukoenceph fidduses with sepro\"\n",
    "\n",
    "# Split the strings into words\n",
    "wordsA = strA.split()\n",
    "wordsB = strB.split()\n",
    "\n",
    "# Compare the words using difflib\n",
    "diff = difflib.ndiff(wordsA, wordsB)\n",
    "\n",
    "# Display the differences\n",
    "print(\"Differences:\")\n",
    "for line in diff:\n",
    "    print(line)"
   ]
  },
  {
   "cell_type": "code",
   "execution_count": 2,
   "id": "f742d094",
   "metadata": {},
   "outputs": [
    {
     "name": "stdout",
     "output_type": "stream",
     "text": [
      "Differences:\n",
      "',' is in strA but not in strB.\n",
      "',' is in strA but not in strB.\n",
      "'1' is in strA but not in strB.\n"
     ]
    }
   ],
   "source": [
    "import re\n",
    "\n",
    "strA = \"leukoenceph, fidduses, with sepro 1\"\n",
    "strB = \"leukoenceph fidduses with sepro\"\n",
    "\n",
    "# Function to split string into words and punctuations\n",
    "def split_words_and_punctuation(s):\n",
    "    return re.findall(r'\\w+|[^\\w\\s]', s)\n",
    "\n",
    "# Function to compare two strings\n",
    "def compare_strings(strA, strB):\n",
    "    results = []\n",
    "    \n",
    "    # Split the strings into words and punctuations\n",
    "    tokensA = split_words_and_punctuation(strA)\n",
    "    tokensB = split_words_and_punctuation(strB)\n",
    "    \n",
    "    # Find differences\n",
    "    for token in tokensA:\n",
    "        if token not in tokensB:\n",
    "            results.append(f\"'{token}' is in strA but not in strB.\")\n",
    "    \n",
    "    return results\n",
    "\n",
    "# Run the comparison\n",
    "differences = compare_strings(strA, strB)\n",
    "\n",
    "# Display the differences\n",
    "print(\"Differences:\")\n",
    "for diff in differences:\n",
    "    print(diff)\n"
   ]
  },
  {
   "cell_type": "code",
   "execution_count": null,
   "id": "e16278eb",
   "metadata": {},
   "outputs": [],
   "source": [
    "import re\n",
    "\n",
    "strA = input(\"what is your stringA?\")\n",
    "strB = input(\"what is your stringB?\")\n",
    "\n",
    "# Function to split string into words and punctuations\n",
    "def split_words_and_punctuation(s):\n",
    "    return re.findall(r'\\w+|[^\\w\\s]', s)\n",
    "\n",
    "# Function to compare two strings\n",
    "def compare_strings(strA, strB):\n",
    "    # Use a set to store unique differences\n",
    "    unique_differences = set()\n",
    "    \n",
    "    # Split the strings into words and punctuations\n",
    "    tokensA = split_words_and_punctuation(strA)\n",
    "    tokensB = split_words_and_punctuation(strB)\n",
    "    \n",
    "    # Find differences\n",
    "    for token in tokensA:\n",
    "        if token not in tokensB:\n",
    "            unique_differences.add(f\"'{token}' is in strA but not in strB.\")\n",
    "    \n",
    "    return unique_differences\n",
    "\n",
    "# Run the comparison\n",
    "differences = compare_strings(strA, strB)\n",
    "\n",
    "# Display the differences\n",
    "print(\"Differences:\")\n",
    "for diff in differences:\n",
    "    print(diff)"
   ]
  },
  {
   "cell_type": "code",
   "execution_count": 3,
   "id": "4b628030",
   "metadata": {},
   "outputs": [
    {
     "name": "stdout",
     "output_type": "stream",
     "text": [
      "Requirement already satisfied: pyenchant in c:\\users\\ananl\\anaconda3\\lib\\site-packages (3.2.2)\n"
     ]
    }
   ],
   "source": [
    "!python -m pip install pyenchant"
   ]
  },
  {
   "cell_type": "code",
   "execution_count": 4,
   "id": "acd9837a",
   "metadata": {},
   "outputs": [
    {
     "name": "stdout",
     "output_type": "stream",
     "text": [
      "what is your string A?haemochromatosis\n",
      "what is your string B?hemochromatosis\n",
      "Differences:\n",
      "'haemochromatosis' is in strA but not in strB.\n"
     ]
    }
   ],
   "source": [
    "#adding the spelling variation using python library enchant\n",
    "\n",
    "import re\n",
    "import enchant\n",
    "\n",
    "# Initialize dictionaries for various English locales\n",
    "dictionaries = {\n",
    "    \"en_US\": enchant.Dict(\"en_US\"),\n",
    "    \"en_GB\": enchant.Dict(\"en_GB\"),\n",
    "    \"en_CA\": enchant.Dict(\"en_CA\"),\n",
    "    \"en_AU\": enchant.Dict(\"en_AU\"),\n",
    "    # Add more variations if needed\n",
    "}\n",
    "\n",
    "# Function to split string into words and punctuations\n",
    "def split_words_and_punctuation(s):\n",
    "    return re.findall(r'\\w+|[^\\w\\s]', s)\n",
    "\n",
    "# Function to check if two words are different spellings in different English variants\n",
    "def check_different_spelling(wordA, wordB):\n",
    "    for locale_A, dict_A in dictionaries.items():\n",
    "        for locale_B, dict_B in dictionaries.items():\n",
    "            if dict_A.check(wordA) and dict_B.check(wordB):\n",
    "                return locale_A, locale_B\n",
    "    return None, None\n",
    "\n",
    "# Function to compare two strings\n",
    "def compare_strings(strA, strB):\n",
    "    # Use a set to store unique differences\n",
    "    unique_differences = set()\n",
    "    \n",
    "    # Split the strings into words and punctuations\n",
    "    tokensA = split_words_and_punctuation(strA)\n",
    "    tokensB = split_words_and_punctuation(strB)\n",
    "    \n",
    "    # Find differences\n",
    "    for tokenA in tokensA:\n",
    "        if tokenA not in tokensB:\n",
    "            found_spelling_difference = False\n",
    "            for tokenB in tokensB:\n",
    "                locale_A, locale_B = check_different_spelling(tokenA, tokenB)\n",
    "                if locale_A and locale_B:\n",
    "                    unique_differences.add(f\"'{tokenA}' in strA (locale: {locale_A}) and '{tokenB}' in strB (locale: {locale_B}) are different spellings.\")\n",
    "                    found_spelling_difference = True\n",
    "                    break\n",
    "            \n",
    "            if not found_spelling_difference:\n",
    "                unique_differences.add(f\"'{tokenA}' is in strA but not in strB.\")\n",
    "    \n",
    "    return unique_differences\n",
    "\n",
    "#get inputs \n",
    "strA = input(\"what is your string A?\")\n",
    "strB = input(\"what is your string B?\")\n",
    "\n",
    "# Run the comparison\n",
    "differences = compare_strings(strA, strB)\n",
    "\n",
    "# Display the differences\n",
    "print(\"Differences:\")\n",
    "for diff in differences:\n",
    "    print(diff)\n",
    "\n"
   ]
  },
  {
   "cell_type": "code",
   "execution_count": 5,
   "id": "0773a90a",
   "metadata": {},
   "outputs": [
    {
     "name": "stdout",
     "output_type": "stream",
     "text": [
      "True\n"
     ]
    }
   ],
   "source": [
    "d = enchant.DictWithPWL(\"en_US\")\n",
    "print(d.check(\"color\"))  # Should return True for correct spelling"
   ]
  },
  {
   "cell_type": "code",
   "execution_count": null,
   "id": "f58c183e",
   "metadata": {},
   "outputs": [],
   "source": []
  }
 ],
 "metadata": {
  "kernelspec": {
   "display_name": "Python 3 (ipykernel)",
   "language": "python",
   "name": "python3"
  },
  "language_info": {
   "codemirror_mode": {
    "name": "ipython",
    "version": 3
   },
   "file_extension": ".py",
   "mimetype": "text/x-python",
   "name": "python",
   "nbconvert_exporter": "python",
   "pygments_lexer": "ipython3",
   "version": "3.11.7"
  }
 },
 "nbformat": 4,
 "nbformat_minor": 5
}
