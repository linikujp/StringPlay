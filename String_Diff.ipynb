{
 "cells": [
  {
   "cell_type": "code",
   "execution_count": 1,
   "id": "35a9f0f3",
   "metadata": {},
   "outputs": [
    {
     "name": "stdout",
     "output_type": "stream",
     "text": [
      "Differences:\n",
      "- leukoenceph,\n",
      "?            -\n",
      "\n",
      "+ leukoenceph\n",
      "- fidduses,\n",
      "?         -\n",
      "\n",
      "+ fidduses\n",
      "  with\n",
      "  sepro\n",
      "- 1\n"
     ]
    }
   ],
   "source": [
    "import difflib\n",
    "\n",
    "strA = \"leukoenceph, fidduses, with sepro 1\"\n",
    "strB = \"leukoenceph fidduses with sepro\"\n",
    "\n",
    "# Split the strings into words\n",
    "wordsA = strA.split()\n",
    "wordsB = strB.split()\n",
    "\n",
    "# Compare the words using difflib\n",
    "diff = difflib.ndiff(wordsA, wordsB)\n",
    "\n",
    "# Display the differences\n",
    "print(\"Differences:\")\n",
    "for line in diff:\n",
    "    print(line)"
   ]
  },
  {
   "cell_type": "code",
   "execution_count": 2,
   "id": "e4b943a3",
   "metadata": {},
   "outputs": [
    {
     "name": "stdout",
     "output_type": "stream",
     "text": [
      "Differences:\n",
      "',' is in strA but not in strB.\n",
      "',' is in strA but not in strB.\n",
      "'1' is in strA but not in strB.\n"
     ]
    }
   ],
   "source": [
    "import re\n",
    "\n",
    "strA = \"leukoenceph, fidduses, with sepro 1\"\n",
    "strB = \"leukoenceph fidduses with sepro\"\n",
    "\n",
    "# Function to split string into words and punctuations\n",
    "def split_words_and_punctuation(s):\n",
    "    return re.findall(r'\\w+|[^\\w\\s]', s)\n",
    "\n",
    "# Function to compare two strings\n",
    "def compare_strings(strA, strB):\n",
    "    results = []\n",
    "    \n",
    "    # Split the strings into words and punctuations\n",
    "    tokensA = split_words_and_punctuation(strA)\n",
    "    tokensB = split_words_and_punctuation(strB)\n",
    "    \n",
    "    # Find differences\n",
    "    for token in tokensA:\n",
    "        if token not in tokensB:\n",
    "            results.append(f\"'{token}' is in strA but not in strB.\")\n",
    "    \n",
    "    return results\n",
    "\n",
    "# Run the comparison\n",
    "differences = compare_strings(strA, strB)\n",
    "\n",
    "# Display the differences\n",
    "print(\"Differences:\")\n",
    "for diff in differences:\n",
    "    print(diff)\n"
   ]
  },
  {
   "cell_type": "code",
   "execution_count": null,
   "id": "9b36eb73",
   "metadata": {},
   "outputs": [],
   "source": [
    "import re\n",
    "\n",
    "strA = input(\"what is your stringA?\")\n",
    "strB = input(\"what is your stringB?\")\n",
    "\n",
    "# Function to split string into words and punctuations\n",
    "def split_words_and_punctuation(s):\n",
    "    return re.findall(r'\\w+|[^\\w\\s]', s)\n",
    "\n",
    "# Function to compare two strings\n",
    "def compare_strings(strA, strB):\n",
    "    # Use a set to store unique differences\n",
    "    unique_differences = set()\n",
    "    \n",
    "    # Split the strings into words and punctuations\n",
    "    tokensA = split_words_and_punctuation(strA)\n",
    "    tokensB = split_words_and_punctuation(strB)\n",
    "    \n",
    "    # Find differences\n",
    "    for token in tokensA:\n",
    "        if token not in tokensB:\n",
    "            unique_differences.add(f\"'{token}' is in strA but not in strB.\")\n",
    "    \n",
    "    return unique_differences\n",
    "\n",
    "# Run the comparison\n",
    "differences = compare_strings(strA, strB)\n",
    "\n",
    "# Display the differences\n",
    "print(\"Differences:\")\n",
    "for diff in differences:\n",
    "    print(diff)"
   ]
  }
 ],
 "metadata": {
  "kernelspec": {
   "display_name": "Python 3 (ipykernel)",
   "language": "python",
   "name": "python3"
  },
  "language_info": {
   "codemirror_mode": {
    "name": "ipython",
    "version": 3
   },
   "file_extension": ".py",
   "mimetype": "text/x-python",
   "name": "python",
   "nbconvert_exporter": "python",
   "pygments_lexer": "ipython3",
   "version": "3.11.7"
  }
 },
 "nbformat": 4,
 "nbformat_minor": 5
}
