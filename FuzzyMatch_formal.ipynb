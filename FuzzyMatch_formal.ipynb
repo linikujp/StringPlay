{
 "cells": [
  {
   "cell_type": "code",
   "execution_count": 1,
   "id": "56853045",
   "metadata": {},
   "outputs": [
    {
     "name": "stdout",
     "output_type": "stream",
     "text": [
      "Collecting fuzzywuzzy\n",
      "  Downloading fuzzywuzzy-0.18.0-py2.py3-none-any.whl (18 kB)\n",
      "Installing collected packages: fuzzywuzzy\n",
      "Successfully installed fuzzywuzzy-0.18.0\n"
     ]
    }
   ],
   "source": [
    "!python -m pip install fuzzywuzzy"
   ]
  },
  {
   "cell_type": "code",
   "execution_count": 4,
   "id": "0e0da58f",
   "metadata": {},
   "outputs": [
    {
     "name": "stdout",
     "output_type": "stream",
     "text": [
      "Collecting levenshtein\n",
      "  Downloading Levenshtein-0.25.1-cp39-cp39-win_amd64.whl (98 kB)\n",
      "Collecting rapidfuzz<4.0.0,>=3.8.0\n",
      "  Downloading rapidfuzz-3.9.6-cp39-cp39-win_amd64.whl (1.7 MB)\n",
      "Installing collected packages: rapidfuzz, levenshtein\n",
      "Successfully installed levenshtein-0.25.1 rapidfuzz-3.9.6\n",
      "Collecting python-levenshtein\n",
      "  Downloading python_Levenshtein-0.25.1-py3-none-any.whl (9.4 kB)\n",
      "Requirement already satisfied: Levenshtein==0.25.1 in c:\\programdata\\anaconda3\\lib\\site-packages (from python-levenshtein) (0.25.1)\n",
      "Requirement already satisfied: rapidfuzz<4.0.0,>=3.8.0 in c:\\programdata\\anaconda3\\lib\\site-packages (from Levenshtein==0.25.1->python-levenshtein) (3.9.6)\n",
      "Installing collected packages: python-levenshtein\n",
      "Successfully installed python-levenshtein-0.25.1\n"
     ]
    }
   ],
   "source": [
    "!python -m pip install python-levenshtein"
   ]
  },
  {
   "cell_type": "code",
   "execution_count": 11,
   "id": "810781f0",
   "metadata": {},
   "outputs": [
    {
     "name": "stdout",
     "output_type": "stream",
     "text": [
      "Collecting jaro-winkler\n",
      "  Downloading jaro_winkler-2.0.3-py3-none-any.whl (33 kB)\n",
      "Installing collected packages: jaro-winkler\n",
      "Successfully installed jaro-winkler-2.0.3\n"
     ]
    }
   ],
   "source": [
    "!python -m pip install jaro-winkler"
   ]
  },
  {
   "cell_type": "markdown",
   "id": "f9227c6c",
   "metadata": {},
   "source": [
    "#### start working with the full dataset in each sheet"
   ]
  },
  {
   "cell_type": "code",
   "execution_count": 115,
   "id": "b1985690",
   "metadata": {},
   "outputs": [
    {
     "name": "stdout",
     "output_type": "stream",
     "text": [
      "please enter the name of the Sheet. This name is also used to create a new folder to same final data.ICD10-nDOIDMedD\n"
     ]
    }
   ],
   "source": [
    "#define the SheetName from screen input, also creates the separate folder for the final data\n",
    "import os\n",
    "SheetName = input(\"please enter the name of the Sheet. This name is also used to create a new folder to same final data.\")\n",
    "current_directory = os.getcwd()\n",
    "new_folder = os.path.join(current_directory,'data',SheetName)\n",
    "os.makedirs(new_folder,exist_ok=True)"
   ]
  },
  {
   "cell_type": "code",
   "execution_count": 116,
   "id": "deff4c34",
   "metadata": {},
   "outputs": [
    {
     "name": "stdout",
     "output_type": "stream",
     "text": [
      "    METASTORE_ID                                 METASTORE_SYNONYMS  \\\n",
      "0  NVMDIS1091335  seborrhoeic wart|Basal Cell Papilloma|seborrhe...   \n",
      "1    NVMDIS20382                     albinismus|Albinism|Albinismus   \n",
      "2  NVMDIS1095484  Anaemia spherocytic|anemia spherocytic|Heredit...   \n",
      "3    NVMDIS21274  Fragilitas Ossium|brittle bones|Brittle bones|...   \n",
      "4  NVMDIS1070743  Sleep Apnea Syndrome|SLEEP APNOEA|apnea syndro...   \n",
      "\n",
      "                                  EFO_IDS_FROM_ICD10  \\\n",
      "0                            EFO_0005584|EFO_1000686   \n",
      "1  MONDO_0018306|MONDO_0019312|MONDO_0012220|MOND...   \n",
      "2                        MONDO_0019050|MONDO_0019350   \n",
      "3  MONDO_0009803|MONDO_0011215|MONDO_0017791|MOND...   \n",
      "4            MONDO_0800026|EFO_0003877|MONDO_0020493   \n",
      "\n",
      "                                EFO_NAMES_FROM_ICD10  \n",
      "0     seborrheic keratosis|dermatosis papulosa nigra  \n",
      "1  Griscelli syndrome|Hermansky-Pudlak syndrome|G...  \n",
      "2  inherited hemoglobinopathy|hereditary spherocy...  \n",
      "3  congenital osteogenesis imperfecta-microcephal...  \n",
      "4  central hypoventilation syndrome, congenital, ...  \n"
     ]
    }
   ],
   "source": [
    "#test to use excel sheet as input\n",
    "#separate the excelsheet on each EFO ID and names\n",
    "#generate the scores\n",
    "#output to another excelsheet\n",
    "\n",
    "import pandas as pd\n",
    "import jaro\n",
    "\n",
    "file_path = \"data/mapping_fuzz_match.xlsx\"\n",
    "\n",
    "df_a = pd.read_excel(file_path, sheet_name=SheetName) #sheetname needs to be keyboard input\n",
    " \n",
    "print(df_a.head())"
   ]
  },
  {
   "cell_type": "code",
   "execution_count": 117,
   "id": "f63477d0",
   "metadata": {},
   "outputs": [
    {
     "name": "stdout",
     "output_type": "stream",
     "text": [
      "['EFO_IDS_FROM_ICD10', 'EFO_NAMES_FROM_ICD10']\n"
     ]
    }
   ],
   "source": [
    "#get the column names\n",
    "EFO_column_names = df_a.columns[-2:].tolist()\n",
    "print(EFO_column_names)\n",
    "col1 = EFO_column_names[0]\n",
    "col2 = EFO_column_names[1]\n"
   ]
  },
  {
   "cell_type": "code",
   "execution_count": 118,
   "id": "62182986",
   "metadata": {},
   "outputs": [],
   "source": [
    "def tranform_table(df_a,col1,col2):\n",
    "    # Separate rows where 'METASTORE_SYNONYMS' is empty\n",
    "    df_empty_syn = df_a[df_a['METASTORE_SYNONYMS'].isna() | df_a['METASTORE_SYNONYMS'].str.strip().eq('')]\n",
    "    df_empty_syn = df_empty_syn.assign(EFO_ID_split='', EFO_Name_split='')\n",
    "\n",
    "    # Apply the transformation to rows where 'METASTORE_SYNONYMS' is not empty\n",
    "    df_b_non_empty_syn = df_a[df_a['METASTORE_SYNONYMS'].notna() & df_a['METASTORE_SYNONYMS'].str.strip().astype(bool)]\n",
    "    df_b_non_empty_syn = df_b_non_empty_syn.assign(EFO_ID_split=df_b_non_empty_syn[col1].str.split('|'),EFO_Name_split=df_b_non_empty_syn[col2].str.split('|'))\n",
    "    #Explode the list into separate row\n",
    "    df_b_non_empty_syn=df_b_non_empty_syn.explode(['EFO_ID_split', 'EFO_Name_split']).reset_index(drop=True)\n",
    "    \n",
    "    # Combine the DataFrames\n",
    "    #df_b = pd.concat([df_b_non_empty_syn, df_empty_syn]).reset_index(drop=True)\n",
    "\n",
    "    return df_b_non_empty_syn, df_empty_syn\n",
    "\n",
    "df_b,df_b_empty = tranform_table(df_a,col1,col2)\n",
    "\n",
    "def filepath(file_name):\n",
    "    return os.path.join(new_folder,file_name)\n",
    "\n",
    "df_b.to_csv(filepath('mapping_fuzz_match_3.csv'),index=False)\n",
    "\n",
    "df_b_empty.to_csv(filepath('mapping_fuzz_match_empty.csv'), index=False, header = True)"
   ]
  },
  {
   "cell_type": "code",
   "execution_count": 119,
   "id": "ec3d2c2d",
   "metadata": {},
   "outputs": [],
   "source": [
    "#fuzzy match as a function\n",
    "from fuzzywuzzy import fuzz\n",
    "def fuzzy_match(str1,str2):\n",
    "    \n",
    "    fuzz_ratio = fuzz.ratio(str1, str2)\n",
    "    jaro_ratio = jaro.jaro_winkler_metric(str1, str2)\n",
    "    jaro_score = jaro_ratio*100\n",
    "    average_score = (fuzz_ratio+jaro_score)/2\n",
    "    \n",
    "    return fuzz_ratio,jaro_score,average_score"
   ]
  },
  {
   "cell_type": "code",
   "execution_count": 120,
   "id": "2d541273",
   "metadata": {},
   "outputs": [],
   "source": [
    "# Specify the column to expand or split (e.g., 'B1')\n",
    "column = 'METASTORE_SYNONYMS'\n",
    "\n",
    "#this is to crete a table where original columns will be kept\n",
    "df_b['split_METASTORE_SYNONYMS'] = df_b[column].str.split('|')\n",
    "df_Cf = df_b.explode('split_METASTORE_SYNONYMS')"
   ]
  },
  {
   "cell_type": "code",
   "execution_count": 121,
   "id": "71fb7177",
   "metadata": {},
   "outputs": [],
   "source": [
    "file_name = 'mapping_fuzz_match_keepSYNlist_5.csv'\n",
    "filepath = os.path.join(new_folder,file_name)\n",
    "\n",
    "df_Cf.to_csv(filepath,index=False)"
   ]
  },
  {
   "cell_type": "code",
   "execution_count": 122,
   "id": "23984d5b",
   "metadata": {},
   "outputs": [],
   "source": [
    "new_cols = ['fuzz_ratio','jaro_score','AVG_score']\n",
    "df_Cf[new_cols] = df_Cf.apply(lambda row: pd.Series(fuzzy_match(row['EFO_Name_split'],row['split_METASTORE_SYNONYMS'])),axis=1)\n",
    "        "
   ]
  },
  {
   "cell_type": "code",
   "execution_count": 123,
   "id": "772f8865",
   "metadata": {},
   "outputs": [],
   "source": [
    "file_name = 'mapping_fuzz_match_score.csv'\n",
    "filepath = os.path.join(new_folder,file_name)\n",
    "df_Cf.to_csv(filepath,index=False, header=True)"
   ]
  },
  {
   "cell_type": "markdown",
   "id": "4c4e8c4c",
   "metadata": {},
   "source": [
    "##### Filter the df_Cf by highest value in either AVG,jaro, or fuzz, and create a new table w/o duplicated column A; which will be reviewed by the SME. "
   ]
  },
  {
   "cell_type": "code",
   "execution_count": 124,
   "id": "c14f3d5c",
   "metadata": {},
   "outputs": [],
   "source": [
    "#create the max_value collumn in df_Cf\n",
    "df_Cf['max_value']=df_Cf[['fuzz_ratio','jaro_score','AVG_score']].max(axis=1)\n",
    "#sort the df_Cf by column 'METASTORE_ID' then by max_value in descending order\n",
    "def sort_df(df):\n",
    "    df_sorted = df.sort_values(by=['METASTORE_ID','max_value'], ascending=[True,False])\n",
    "    return df_sorted\n",
    "\n",
    "df_Cf_sorted = sort_df(df_Cf)\n",
    "\n",
    "#drop duplicates by 'METASTORE_ID'\n",
    "def dedup_df(df):\n",
    "    df_dedup = df.drop_duplicates(subset='METASTORE_ID',keep='first')\n",
    "    return df_dedup\n",
    "\n",
    "df_Cf_dedup = dedup_df(df_Cf_sorted)\n",
    "\n",
    "#sort by the max value for the SME review\n",
    "\n",
    "df_Cf_dedup_sorted = df_Cf_dedup.sort_values(by=['max_value','METASTORE_ID'], ascending=[False,True])\n",
    "\n",
    "file_name = 'mapping_fuzz_match_score_highest_SME.csv'\n",
    "filepath = os.path.join(new_folder,file_name)\n",
    "\n",
    "df_Cf_dedup_sorted.to_csv(filepath,index=False, header=True)\n"
   ]
  },
  {
   "cell_type": "markdown",
   "id": "04bb48b3",
   "metadata": {},
   "source": [
    "##### Improvement of this code: \n",
    "  Change all the strings into lower case before comparison.\n",
    "  This code can be paired with the string_"
   ]
  },
  {
   "cell_type": "code",
   "execution_count": null,
   "id": "d0c0803f",
   "metadata": {},
   "outputs": [],
   "source": []
  }
 ],
 "metadata": {
  "kernelspec": {
   "display_name": "Python 3 (ipykernel)",
   "language": "python",
   "name": "python3"
  },
  "language_info": {
   "codemirror_mode": {
    "name": "ipython",
    "version": 3
   },
   "file_extension": ".py",
   "mimetype": "text/x-python",
   "name": "python",
   "nbconvert_exporter": "python",
   "pygments_lexer": "ipython3",
   "version": "3.9.7"
  }
 },
 "nbformat": 4,
 "nbformat_minor": 5
}
